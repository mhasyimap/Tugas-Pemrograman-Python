{
  "nbformat": 4,
  "nbformat_minor": 0,
  "metadata": {
    "colab": {
      "name": "Tugas Minggu 12.ipynb",
      "provenance": [],
      "collapsed_sections": [],
      "authorship_tag": "ABX9TyPnklN++yyQrMnBdB2U3zNW",
      "include_colab_link": true
    },
    "kernelspec": {
      "name": "python3",
      "display_name": "Python 3"
    }
  },
  "cells": [
    {
      "cell_type": "markdown",
      "metadata": {
        "id": "view-in-github",
        "colab_type": "text"
      },
      "source": [
        "<a href=\"https://colab.research.google.com/github/mhasyimap/Tugas-Pemrograman-Python/blob/main/Tugas_Minggu_14.ipynb\" target=\"_parent\"><img src=\"https://colab.research.google.com/assets/colab-badge.svg\" alt=\"Open In Colab\"/></a>"
      ]
    },
    {
      "cell_type": "markdown",
      "metadata": {
        "id": "r0ONxm8mKW7-"
      },
      "source": [
        "Nama: M. Hasyim Abdillah P.\r\n",
        "\r\n",
        "NIM: 1101191095\r\n",
        "\r\n",
        "Kelas: TT-43-G5 (TT-43-11)"
      ]
    },
    {
      "cell_type": "code",
      "metadata": {
        "id": "98xwDIXAr3dj"
      },
      "source": [
        "import numpy as np"
      ],
      "execution_count": null,
      "outputs": []
    },
    {
      "cell_type": "code",
      "metadata": {
        "colab": {
          "base_uri": "https://localhost:8080/"
        },
        "id": "KztKQuJXsJg5",
        "outputId": "8d3e8009-7f26-49c0-baeb-fcbf70b8f688"
      },
      "source": [
        "a = float(input(\"Frekuensi (400-2000 MHz): \"))\r\n",
        "b = float(input(\"Tinggi antena pengirim (30-200 m): \"))\r\n",
        "c = float(input(\"Tinggi antena penerima (1-30 m): \"))\r\n",
        "d = float(input(\"Jarak pengirim dan penerima (km): \"))\r\n",
        "print(\"1. Urban\\n2. Suburban\\n3. Open\")\r\n",
        "e = int(input(\"Pilih jenis daerah: \"))"
      ],
      "execution_count": null,
      "outputs": [
        {
          "output_type": "stream",
          "text": [
            "Frekuensi (400-2000 MHz): 1500\n",
            "Tinggi antena pengirim (30-200 m): 150\n",
            "Tinggi antena penerima (1-30 m): 15\n",
            "Jarak pengirim dan penerima (km): 15\n",
            "1. Urban\n",
            "2. Suburban\n",
            "3. Open\n",
            "Pilih jenis daerah: 3\n"
          ],
          "name": "stdout"
        }
      ]
    },
    {
      "cell_type": "code",
      "metadata": {
        "id": "L4rmGpCJ_7cx"
      },
      "source": [
        "def PathLoss(Fc, Ht, Hr, d, OptCm):\r\n",
        "  if OptCm == 1:\r\n",
        "    Cm = 0\r\n",
        "  elif OptCm == 2:\r\n",
        "    Cm = -2*(np.log(Fc/28))**2-5.4\r\n",
        "  elif OptCm == 3:\r\n",
        "    Cm = -4.78*(np.log(Fc))**2+18.33*np.log(Fc)-40.94\r\n",
        "  else:\r\n",
        "    return print(\"Input daerah yang sesuai\")\r\n",
        "    quit()\r\n",
        "  \r\n",
        "  if (Ht not in range(30,201) or Hr not in range(1,31)):\r\n",
        "    return print(\"Masukkan tinggi antena yang sesuai\")\r\n",
        "    quit()\r\n",
        "\r\n",
        "  if Fc in range(400, 1501):\r\n",
        "    C1 = 69.55\r\n",
        "    C2 = 26.16\r\n",
        "  elif Fc in range(1500,2001):\r\n",
        "    C1 = 46.3\r\n",
        "    C2 = 33.9\r\n",
        "  else:\r\n",
        "    return print(\"Masukkan nilai frekuensi yang sesuai\")\r\n",
        "    quit()\r\n",
        "\r\n",
        "  aHr = (1.1*np.log(Fc)-0.7)*Hr-(1.56*np.log(Fc)-0.8)\r\n",
        "  Lp = C1+C2*np.log(Fc)-13.83*np.log(Ht)-aHr+(44.9-6.55*np.log(Ht))*np.log(d)+Cm  \r\n",
        "  return Lp"
      ],
      "execution_count": null,
      "outputs": []
    },
    {
      "cell_type": "code",
      "metadata": {
        "colab": {
          "base_uri": "https://localhost:8080/"
        },
        "id": "J0XL-benApy5",
        "outputId": "6b838629-4f22-4f49-935b-9cb543e1dd27"
      },
      "source": [
        "Ploss = PathLoss(a, b, c, d, e)\r\n",
        "print(\"Pathloss=\",Ploss,\"dB\")"
      ],
      "execution_count": null,
      "outputs": [
        {
          "output_type": "stream",
          "text": [
            "Pathloss= -37.81691951414413 dB\n"
          ],
          "name": "stdout"
        }
      ]
    }
  ]
}