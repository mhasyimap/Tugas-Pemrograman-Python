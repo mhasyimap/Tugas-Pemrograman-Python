{
  "nbformat": 4,
  "nbformat_minor": 0,
  "metadata": {
    "colab": {
      "name": "Coba",
      "provenance": [],
      "mount_file_id": "1ZwP0tLA1j4jHwXJrYLThE1C5dWR0SnUv",
      "authorship_tag": "ABX9TyMB3T1nSQVBgBCMPBSp+bM9",
      "include_colab_link": true
    },
    "kernelspec": {
      "name": "python3",
      "display_name": "Python 3"
    }
  },
  "cells": [
    {
      "cell_type": "markdown",
      "metadata": {
        "id": "view-in-github",
        "colab_type": "text"
      },
      "source": [
        "<a href=\"https://colab.research.google.com/github/mhasyimap/Tugas-Pemrograman-Python/blob/main/Coba.ipynb\" target=\"_parent\"><img src=\"https://colab.research.google.com/assets/colab-badge.svg\" alt=\"Open In Colab\"/></a>"
      ]
    },
    {
      "cell_type": "code",
      "metadata": {
        "id": "tX_AvpaMfAQq"
      },
      "source": [
        "cd /content/drive/MyDrive/Colab Notebooks"
      ],
      "execution_count": null,
      "outputs": []
    },
    {
      "cell_type": "code",
      "metadata": {
        "id": "9C0-3C77fHyL"
      },
      "source": [
        "ls"
      ],
      "execution_count": null,
      "outputs": []
    },
    {
      "cell_type": "code",
      "metadata": {
        "id": "zaK7TOoGfIp5"
      },
      "source": [
        "from keras.models import Sequential\n",
        "from keras.layers.core import Activation\n",
        "from keras.layers.core import Dense\n",
        "from keras.layers.core import Flatten\n",
        "from keras.optimizers import Adam\n",
        "from sklearn.preprocessing import LabelBinarizer\n",
        "from sklearn.model_selection import train_test_split\n",
        "from sklearn.metrics import classification_report\n",
        "from PIL import Image\n",
        "from imutils import paths \n",
        "import numpy as np\n",
        "import os"
      ],
      "execution_count": 152,
      "outputs": []
    },
    {
      "cell_type": "code",
      "metadata": {
        "id": "M19I-P8ZgJih",
        "colab": {
          "base_uri": "https://localhost:8080/"
        },
        "outputId": "f7d1b3f7-3992-46ed-f9ba-7295b38bc128"
      },
      "source": [
        "print(\"[INFO] loading images...\")\n",
        "imagePaths = paths.list_images(\"3scene\")\n",
        "data = []\n",
        "labels = []"
      ],
      "execution_count": 170,
      "outputs": [
        {
          "output_type": "stream",
          "text": [
            "[INFO] loading images...\n"
          ],
          "name": "stdout"
        }
      ]
    },
    {
      "cell_type": "code",
      "metadata": {
        "id": "Z7Wc_J36gjK2"
      },
      "source": [
        "for i in imagePaths:\n",
        "  image = Image.open(i)\n",
        "  image = np.array(image.resize((64,64))) / 255.0\n",
        "  data.append(image)\n",
        "\n",
        "  label = i.split(os.path.sep)[-2]\n",
        "  labels.append(label)"
      ],
      "execution_count": 171,
      "outputs": []
    },
    {
      "cell_type": "code",
      "metadata": {
        "id": "DpAUT5CJnE5x"
      },
      "source": [
        "print(labels)"
      ],
      "execution_count": null,
      "outputs": []
    },
    {
      "cell_type": "code",
      "metadata": {
        "id": "lkhbF97dn91F"
      },
      "source": [
        "lb = LabelBinarizer()\n",
        "labels = lb.fit_transform(labels)"
      ],
      "execution_count": 173,
      "outputs": []
    },
    {
      "cell_type": "code",
      "metadata": {
        "id": "RqzTEZwpoK2Q"
      },
      "source": [
        "print(labels)"
      ],
      "execution_count": null,
      "outputs": []
    },
    {
      "cell_type": "code",
      "metadata": {
        "id": "SkcVn9l4orgP",
        "colab": {
          "base_uri": "https://localhost:8080/"
        },
        "outputId": "57a73270-8129-47b7-d264-b976eae7bb92"
      },
      "source": [
        "(trainX, testX, trainY, testY) = train_test_split(np.array(data), np.array(labels), test_size=0.25)\n",
        "print(trainX.shape)\n",
        "print(testX.shape)"
      ],
      "execution_count": 174,
      "outputs": [
        {
          "output_type": "stream",
          "text": [
            "(711, 64, 64, 3)\n",
            "(237, 64, 64, 3)\n"
          ],
          "name": "stdout"
        }
      ]
    },
    {
      "cell_type": "code",
      "metadata": {
        "id": "gIZzIkN5pMZt"
      },
      "source": [
        "from keras.models import Sequential\n",
        "from keras.layers.core import Dense\n",
        "from keras.layers.core import Flatten\n",
        "\n",
        "model = Sequential(\n",
        "    [\n",
        "        Flatten(input_shape=(64*64*3,)),\n",
        "        Dense(100, activation=\"relu\", name=\"layer1\"),\n",
        "        Dense(32, activation=\"relu\", name=\"layer2\"),\n",
        "        Dense(32, activation=\"relu\", name=\"layer3\"),\n",
        "        Dense(3, activation=\"softmax\", name=\"layer4\"),\n",
        "    ]\n",
        ")"
      ],
      "execution_count": 175,
      "outputs": []
    },
    {
      "cell_type": "code",
      "metadata": {
        "id": "IJDH5aYkqeSx",
        "colab": {
          "base_uri": "https://localhost:8080/"
        },
        "outputId": "da9779ee-7570-440f-a23f-cd471325572f"
      },
      "source": [
        "model.summary()"
      ],
      "execution_count": 176,
      "outputs": [
        {
          "output_type": "stream",
          "text": [
            "Model: \"sequential_14\"\n",
            "_________________________________________________________________\n",
            "Layer (type)                 Output Shape              Param #   \n",
            "=================================================================\n",
            "flatten_14 (Flatten)         (None, 12288)             0         \n",
            "_________________________________________________________________\n",
            "layer1 (Dense)               (None, 100)               1228900   \n",
            "_________________________________________________________________\n",
            "layer2 (Dense)               (None, 32)                3232      \n",
            "_________________________________________________________________\n",
            "layer3 (Dense)               (None, 32)                1056      \n",
            "_________________________________________________________________\n",
            "layer4 (Dense)               (None, 3)                 99        \n",
            "=================================================================\n",
            "Total params: 1,233,287\n",
            "Trainable params: 1,233,287\n",
            "Non-trainable params: 0\n",
            "_________________________________________________________________\n"
          ],
          "name": "stdout"
        }
      ]
    },
    {
      "cell_type": "code",
      "metadata": {
        "id": "bfheU96cqiD2",
        "colab": {
          "base_uri": "https://localhost:8080/"
        },
        "outputId": "4fd77ce1-0f0b-4913-8b40-cd0f582dbb13"
      },
      "source": [
        "print(\"[INFO] training network...\")\n",
        "opt = Adam(lr=1e-3, decay=1e-3 / 50)\n",
        "model.compile(loss=\"categorical_crossentropy\", optimizer=opt, metrics=[\"accuracy\"])\n",
        "H = model.fit(trainX, trainY, validation_data=(testX, testY), epochs=25, batch_size=32)"
      ],
      "execution_count": 177,
      "outputs": [
        {
          "output_type": "stream",
          "text": [
            "[INFO] training network...\n",
            "Epoch 1/25\n",
            "WARNING:tensorflow:Model was constructed with shape (None, 12288) for input Tensor(\"flatten_14_input:0\", shape=(None, 12288), dtype=float32), but it was called on an input with incompatible shape (None, 64, 64, 3).\n",
            "WARNING:tensorflow:Model was constructed with shape (None, 12288) for input Tensor(\"flatten_14_input:0\", shape=(None, 12288), dtype=float32), but it was called on an input with incompatible shape (None, 64, 64, 3).\n",
            "21/23 [==========================>...] - ETA: 0s - loss: 1.6541 - accuracy: 0.3720WARNING:tensorflow:Model was constructed with shape (None, 12288) for input Tensor(\"flatten_14_input:0\", shape=(None, 12288), dtype=float32), but it was called on an input with incompatible shape (None, 64, 64, 3).\n",
            "23/23 [==============================] - 0s 19ms/step - loss: 1.6228 - accuracy: 0.3713 - val_loss: 1.0921 - val_accuracy: 0.3713\n",
            "Epoch 2/25\n",
            "23/23 [==============================] - 0s 12ms/step - loss: 1.0168 - accuracy: 0.4810 - val_loss: 0.8688 - val_accuracy: 0.6582\n",
            "Epoch 3/25\n",
            "23/23 [==============================] - 0s 13ms/step - loss: 0.8759 - accuracy: 0.6090 - val_loss: 0.8750 - val_accuracy: 0.5401\n",
            "Epoch 4/25\n",
            "23/23 [==============================] - 0s 13ms/step - loss: 0.8548 - accuracy: 0.6160 - val_loss: 0.8903 - val_accuracy: 0.5907\n",
            "Epoch 5/25\n",
            "23/23 [==============================] - 0s 13ms/step - loss: 0.8045 - accuracy: 0.6231 - val_loss: 0.6939 - val_accuracy: 0.7173\n",
            "Epoch 6/25\n",
            "23/23 [==============================] - 0s 12ms/step - loss: 0.6745 - accuracy: 0.7173 - val_loss: 0.6141 - val_accuracy: 0.7722\n",
            "Epoch 7/25\n",
            "23/23 [==============================] - 0s 12ms/step - loss: 0.6416 - accuracy: 0.7229 - val_loss: 0.5865 - val_accuracy: 0.7848\n",
            "Epoch 8/25\n",
            "23/23 [==============================] - 0s 12ms/step - loss: 0.5895 - accuracy: 0.7609 - val_loss: 0.8931 - val_accuracy: 0.5865\n",
            "Epoch 9/25\n",
            "23/23 [==============================] - 0s 12ms/step - loss: 0.6524 - accuracy: 0.7286 - val_loss: 0.6670 - val_accuracy: 0.7384\n",
            "Epoch 10/25\n",
            "23/23 [==============================] - 0s 12ms/step - loss: 0.5595 - accuracy: 0.7876 - val_loss: 0.7314 - val_accuracy: 0.7046\n",
            "Epoch 11/25\n",
            "23/23 [==============================] - 0s 12ms/step - loss: 0.5436 - accuracy: 0.7820 - val_loss: 0.5925 - val_accuracy: 0.7806\n",
            "Epoch 12/25\n",
            "23/23 [==============================] - 0s 12ms/step - loss: 0.5186 - accuracy: 0.8115 - val_loss: 0.6380 - val_accuracy: 0.7426\n",
            "Epoch 13/25\n",
            "23/23 [==============================] - 0s 12ms/step - loss: 0.5385 - accuracy: 0.7722 - val_loss: 0.5862 - val_accuracy: 0.7595\n",
            "Epoch 14/25\n",
            "23/23 [==============================] - 0s 13ms/step - loss: 0.4967 - accuracy: 0.8115 - val_loss: 0.5430 - val_accuracy: 0.8059\n",
            "Epoch 15/25\n",
            "23/23 [==============================] - 0s 12ms/step - loss: 0.4392 - accuracy: 0.8523 - val_loss: 0.5060 - val_accuracy: 0.7975\n",
            "Epoch 16/25\n",
            "23/23 [==============================] - 0s 12ms/step - loss: 0.4977 - accuracy: 0.7890 - val_loss: 0.5363 - val_accuracy: 0.8017\n",
            "Epoch 17/25\n",
            "23/23 [==============================] - 0s 12ms/step - loss: 0.4490 - accuracy: 0.8186 - val_loss: 0.5295 - val_accuracy: 0.8017\n",
            "Epoch 18/25\n",
            "23/23 [==============================] - 0s 13ms/step - loss: 0.4318 - accuracy: 0.8383 - val_loss: 0.6275 - val_accuracy: 0.7468\n",
            "Epoch 19/25\n",
            "23/23 [==============================] - 0s 12ms/step - loss: 0.4966 - accuracy: 0.7947 - val_loss: 0.6733 - val_accuracy: 0.7595\n",
            "Epoch 20/25\n",
            "23/23 [==============================] - 0s 12ms/step - loss: 0.4661 - accuracy: 0.8115 - val_loss: 0.5204 - val_accuracy: 0.8312\n",
            "Epoch 21/25\n",
            "23/23 [==============================] - 0s 13ms/step - loss: 0.4237 - accuracy: 0.8312 - val_loss: 0.6082 - val_accuracy: 0.7975\n",
            "Epoch 22/25\n",
            "23/23 [==============================] - 0s 12ms/step - loss: 0.3669 - accuracy: 0.8748 - val_loss: 0.6454 - val_accuracy: 0.7384\n",
            "Epoch 23/25\n",
            "23/23 [==============================] - 0s 12ms/step - loss: 0.3758 - accuracy: 0.8565 - val_loss: 0.6027 - val_accuracy: 0.7553\n",
            "Epoch 24/25\n",
            "23/23 [==============================] - 0s 13ms/step - loss: 0.3533 - accuracy: 0.8537 - val_loss: 0.6062 - val_accuracy: 0.7890\n",
            "Epoch 25/25\n",
            "23/23 [==============================] - 0s 12ms/step - loss: 0.3073 - accuracy: 0.8987 - val_loss: 0.5969 - val_accuracy: 0.7890\n"
          ],
          "name": "stdout"
        }
      ]
    },
    {
      "cell_type": "code",
      "metadata": {
        "id": "kc_5AW2gr3EM",
        "colab": {
          "base_uri": "https://localhost:8080/",
          "height": 590
        },
        "outputId": "39284850-a5fa-4676-a56f-6d21b698e1dc"
      },
      "source": [
        "import matplotlib.pyplot as plt\n",
        "\n",
        "print(H.history.keys())\n",
        "#accuracy\n",
        "plt.plot(H.history['accuracy'])\n",
        "plt.plot(H.history['val_accuracy'])\n",
        "plt.title('model accuracy')\n",
        "plt.ylabel('accuracy')\n",
        "plt.xlabel('epoch')\n",
        "plt.legend(['train', 'test'], loc='upper left')\n",
        "plt.show()\n",
        "#loss\n",
        "plt.plot(H.history['loss'])\n",
        "plt.plot(H.history['val_loss'])\n",
        "plt.title('model loss')\n",
        "plt.ylabel('loss')\n",
        "plt.xlabel('epoch')\n",
        "plt.legend(['train', 'test'], loc='upper left')\n",
        "plt.show()"
      ],
      "execution_count": 178,
      "outputs": [
        {
          "output_type": "stream",
          "text": [
            "dict_keys(['loss', 'accuracy', 'val_loss', 'val_accuracy'])\n"
          ],
          "name": "stdout"
        },
        {
          "output_type": "display_data",
          "data": {
            "image/png": "[encoded data removed]",
            "text/plain": [
              "<Figure size 432x288 with 1 Axes>"
            ]
          },
          "metadata": {
            "tags": [],
            "needs_background": "light"
          }
        },
        {
          "output_type": "display_data",
          "data": {
            "image/png": "[encoded data removed]",
            "text/plain": [
              "<Figure size 432x288 with 1 Axes>"
            ]
          },
          "metadata": {
            "tags": [],
            "needs_background": "light"
          }
        }
      ]
    },
    {
      "cell_type": "code",
      "metadata": {
        "colab": {
          "base_uri": "https://localhost:8080/"
        },
        "id": "WrR9bJMVt4ex",
        "outputId": "a76f9ec0-f7a3-4caf-c205-9ba826e15879"
      },
      "source": [
        "print(\"[INFO] evaluating network...\")\n",
        "predictions = model.predict(testX, batch_size=32)\n",
        "print(classification_report(testY.argmax(axis=1), predictions.argmax(axis=1), target_names=lb.classes_))"
      ],
      "execution_count": 179,
      "outputs": [
        {
          "output_type": "stream",
          "text": [
            "[INFO] evaluating network...\n",
            "WARNING:tensorflow:Model was constructed with shape (None, 12288) for input Tensor(\"flatten_14_input:0\", shape=(None, 12288), dtype=float32), but it was called on an input with incompatible shape (None, 64, 64, 3).\n",
            "              precision    recall  f1-score   support\n",
            "\n",
            "       coast       0.69      0.91      0.79        87\n",
            "      forest       0.93      0.73      0.82        86\n",
            "     highway       0.82      0.70      0.76        64\n",
            "\n",
            "    accuracy                           0.79       237\n",
            "   macro avg       0.81      0.78      0.79       237\n",
            "weighted avg       0.81      0.79      0.79       237\n",
            "\n"
          ],
          "name": "stdout"
        }
      ]
    },
    {
      "cell_type": "code",
      "metadata": {
        "id": "VWFS9OTKJq-g"
      },
      "source": [
        "model.save('nmodel_scene')"
      ],
      "execution_count": null,
      "outputs": []
    }
  ]
}