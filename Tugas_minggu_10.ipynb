{
  "nbformat": 4,
  "nbformat_minor": 0,
  "metadata": {
    "colab": {
      "name": "Tugas minggu 10",
      "provenance": [],
      "mount_file_id": "1q2qLloWoJJ9tQ74V-ulDHcPETJ_K8eRn",
      "authorship_tag": "ABX9TyP6eq8bUUn/+5Vf8oRkw72R",
      "include_colab_link": true
    },
    "kernelspec": {
      "name": "python3",
      "display_name": "Python 3"
    }
  },
  "cells": [
    {
      "cell_type": "markdown",
      "metadata": {
        "id": "view-in-github",
        "colab_type": "text"
      },
      "source": [
        "<a href=\"https://colab.research.google.com/github/mhasyimap/Tugas-Pemrograman-Python/blob/main/Tugas_minggu_10.ipynb\" target=\"_parent\"><img src=\"https://colab.research.google.com/assets/colab-badge.svg\" alt=\"Open In Colab\"/></a>"
      ]
    },
    {
      "cell_type": "code",
      "metadata": {
        "colab": {
          "base_uri": "https://localhost:8080/"
        },
        "id": "8WoqqoJQyhZo",
        "outputId": "f6607d1f-1b4e-4008-ceb2-2433054afd4d"
      },
      "source": [
        "cd /content/drive/MyDrive/Colab Notebooks"
      ],
      "execution_count": 1,
      "outputs": [
        {
          "output_type": "stream",
          "text": [
            "/content/drive/MyDrive/Colab Notebooks\n"
          ],
          "name": "stdout"
        }
      ]
    },
    {
      "cell_type": "code",
      "metadata": {
        "colab": {
          "base_uri": "https://localhost:8080/"
        },
        "id": "uLZolFRkytnv",
        "outputId": "971d3efa-aa90-4d90-bd31-95d82f242522"
      },
      "source": [
        "ls"
      ],
      "execution_count": 2,
      "outputs": [
        {
          "output_type": "stream",
          "text": [
            " \u001b[0m\u001b[01;34m3scene\u001b[0m/   Coba   \u001b[01;34mmodel_data\u001b[0m/  \u001b[01;34m'My Datasets'\u001b[0m/   \u001b[01;34mnmodel_scene\u001b[0m/   Untitled0.ipynb\n"
          ],
          "name": "stdout"
        }
      ]
    },
    {
      "cell_type": "code",
      "metadata": {
        "id": "wFc9Qpwsy0fx"
      },
      "source": [
        "from keras.models import Sequential\n",
        "from keras.layers.core import Activation\n",
        "from keras.layers.core import Dense\n",
        "from keras.layers.core import Flatten\n",
        "from keras.optimizers import Adam\n",
        "from sklearn.preprocessing import LabelBinarizer\n",
        "from sklearn.model_selection import train_test_split\n",
        "from sklearn.metrics import classification_report\n",
        "from PIL import Image\n",
        "from imutils import paths \n",
        "import numpy as np\n",
        "import os"
      ],
      "execution_count": 3,
      "outputs": []
    },
    {
      "cell_type": "code",
      "metadata": {
        "colab": {
          "base_uri": "https://localhost:8080/"
        },
        "id": "wGy-4naBzBLp",
        "outputId": "1b5b6746-b59a-4352-ed0b-676a4cbd5bdc"
      },
      "source": [
        "print(\"[INFO] loading images...\")\n",
        "imagePaths = paths.list_images(\"My Datasets\")\n",
        "data = []\n",
        "labels = []"
      ],
      "execution_count": 4,
      "outputs": [
        {
          "output_type": "stream",
          "text": [
            "[INFO] loading images...\n"
          ],
          "name": "stdout"
        }
      ]
    },
    {
      "cell_type": "code",
      "metadata": {
        "id": "8UXVQKRczLMq"
      },
      "source": [
        "for i in imagePaths:\n",
        "  image = Image.open(i)\n",
        "  image = np.array(image.resize((24,24))) / 255.0 #normalisasi\n",
        "  data.append(image)\n",
        "\n",
        "  label = i.split(os.path.sep)[-2]\n",
        "  labels.append(label)"
      ],
      "execution_count": 5,
      "outputs": []
    },
    {
      "cell_type": "code",
      "metadata": {
        "colab": {
          "base_uri": "https://localhost:8080/"
        },
        "id": "NmwDpEMcz6GC",
        "outputId": "875d3831-c65a-4c43-c1db-8deaea171eda"
      },
      "source": [
        "print(labels)"
      ],
      "execution_count": 6,
      "outputs": [
        {
          "output_type": "stream",
          "text": [
            "['forest', 'forest', 'forest', 'forest', 'forest', 'forest', 'forest', 'forest', 'forest', 'forest', 'forest', 'forest', 'forest', 'forest', 'forest', 'forest', 'forest', 'forest', 'forest', 'forest', 'forest', 'forest', 'forest', 'forest', 'forest', 'forest', 'forest', 'forest', 'forest', 'forest', 'forest', 'forest', 'forest', 'forest', 'forest', 'forest', 'forest', 'forest', 'forest', 'forest', 'forest', 'forest', 'forest', 'forest', 'forest', 'forest', 'forest', 'forest', 'forest', 'forest', 'forest', 'forest', 'forest', 'forest', 'forest', 'forest', 'forest', 'forest', 'forest', 'forest', 'forest', 'forest', 'forest', 'forest', 'forest', 'forest', 'forest', 'forest', 'forest', 'forest', 'forest', 'forest', 'forest', 'forest', 'forest', 'forest', 'forest', 'forest', 'forest', 'forest', 'forest', 'forest', 'forest', 'forest', 'forest', 'forest', 'forest', 'forest', 'forest', 'forest', 'forest', 'forest', 'forest', 'forest', 'forest', 'forest', 'forest', 'forest', 'forest', 'forest', 'forest', 'forest', 'forest', 'forest', 'forest', 'forest', 'forest', 'forest', 'forest', 'forest', 'forest', 'forest', 'forest', 'forest', 'forest', 'forest', 'forest', 'forest', 'forest', 'forest', 'forest', 'forest', 'forest', 'forest', 'forest', 'forest', 'forest', 'forest', 'forest', 'forest', 'forest', 'forest', 'forest', 'forest', 'forest', 'forest', 'forest', 'forest', 'forest', 'forest', 'forest', 'forest', 'forest', 'forest', 'forest', 'forest', 'forest', 'forest', 'forest', 'forest', 'forest', 'forest', 'forest', 'forest', 'forest', 'forest', 'forest', 'forest', 'forest', 'forest', 'forest', 'forest', 'forest', 'forest', 'forest', 'forest', 'forest', 'forest', 'forest', 'forest', 'forest', 'forest', 'forest', 'forest', 'forest', 'forest', 'forest', 'forest', 'forest', 'forest', 'forest', 'forest', 'forest', 'forest', 'forest', 'forest', 'forest', 'forest', 'forest', 'forest', 'forest', 'forest', 'forest', 'forest', 'forest', 'forest', 'forest', 'forest', 'forest', 'forest', 'forest', 'forest', 'forest', 'forest', 'forest', 'forest', 'forest', 'forest', 'forest', 'forest', 'forest', 'forest', 'forest', 'forest', 'forest', 'forest', 'forest', 'forest', 'forest', 'forest', 'forest', 'forest', 'forest', 'forest', 'forest', 'forest', 'forest', 'forest', 'forest', 'forest', 'forest', 'forest', 'forest', 'forest', 'forest', 'forest', 'forest', 'forest', 'forest', 'forest', 'forest', 'forest', 'forest', 'forest', 'forest', 'forest', 'forest', 'forest', 'forest', 'forest', 'forest', 'forest', 'forest', 'forest', 'forest', 'forest', 'forest', 'forest', 'forest', 'forest', 'forest', 'forest', 'forest', 'forest', 'forest', 'forest', 'forest', 'forest', 'forest', 'forest', 'forest', 'forest', 'forest', 'forest', 'forest', 'forest', 'forest', 'forest', 'forest', 'forest', 'forest', 'forest', 'forest', 'forest', 'forest', 'forest', 'forest', 'forest', 'forest', 'forest', 'forest', 'forest', 'forest', 'forest', 'forest', 'forest', 'forest', 'forest', 'forest', 'forest', 'forest', 'forest', 'forest', 'forest', 'forest', 'forest', 'forest', 'forest', 'forest', 'forest', 'forest', 'forest', 'forest', 'forest', 'forest', 'forest', 'forest', 'forest', 'forest', 'forest', 'forest', 'forest', 'forest', 'forest', 'forest', 'forest', 'forest', 'forest', 'forest', 'forest', 'forest', 'forest', 'forest', 'forest', 'forest', 'forest', 'forest', 'forest', 'forest', 'forest', 'forest', 'forest', 'forest', 'forest', 'forest', 'forest', 'forest', 'forest', 'forest', 'forest', 'forest', 'forest', 'forest', 'forest', 'forest', 'forest', 'forest', 'forest', 'forest', 'forest', 'forest', 'forest', 'coast', 'coast', 'coast', 'coast', 'coast', 'coast', 'coast', 'coast', 'coast', 'coast', 'coast', 'coast', 'coast', 'coast', 'coast', 'coast', 'coast', 'coast', 'coast', 'coast', 'coast', 'coast', 'coast', 'coast', 'coast', 'coast', 'coast', 'coast', 'coast', 'coast', 'coast', 'coast', 'coast', 'coast', 'coast', 'coast', 'coast', 'coast', 'coast', 'coast', 'coast', 'coast', 'coast', 'coast', 'coast', 'coast', 'coast', 'coast', 'coast', 'coast', 'coast', 'coast', 'coast', 'coast', 'coast', 'coast', 'coast', 'coast', 'coast', 'coast', 'coast', 'coast', 'coast', 'coast', 'coast', 'coast', 'coast', 'coast', 'coast', 'coast', 'coast', 'coast', 'coast', 'coast', 'coast', 'coast', 'coast', 'coast', 'coast', 'coast', 'coast', 'coast', 'coast', 'coast', 'coast', 'coast', 'coast', 'coast', 'coast', 'coast', 'coast', 'coast', 'coast', 'coast', 'coast', 'coast', 'coast', 'coast', 'coast', 'coast', 'coast', 'coast', 'coast', 'coast', 'coast', 'coast', 'coast', 'coast', 'coast', 'coast', 'coast', 'coast', 'coast', 'coast', 'coast', 'coast', 'coast', 'coast', 'coast', 'coast', 'coast', 'coast', 'coast', 'coast', 'coast', 'coast', 'coast', 'coast', 'coast', 'coast', 'coast', 'coast', 'coast', 'coast', 'coast', 'coast', 'coast', 'coast', 'coast', 'coast', 'coast', 'coast', 'coast', 'coast', 'coast', 'coast', 'coast', 'coast', 'coast', 'coast', 'coast', 'coast', 'coast', 'coast', 'coast', 'coast', 'coast', 'coast', 'coast', 'coast', 'coast', 'coast', 'coast', 'coast', 'coast', 'coast', 'coast', 'coast', 'coast', 'coast', 'coast', 'coast', 'coast', 'coast', 'coast', 'coast', 'coast', 'coast', 'coast', 'coast', 'coast', 'coast', 'coast', 'coast', 'coast', 'coast', 'coast', 'coast', 'coast', 'coast', 'coast', 'coast', 'coast', 'coast', 'coast', 'coast', 'coast', 'coast', 'coast', 'coast', 'coast', 'coast', 'coast', 'coast', 'coast', 'coast', 'coast', 'coast', 'coast', 'coast', 'coast', 'coast', 'coast', 'coast', 'coast', 'coast', 'coast', 'coast', 'coast', 'coast', 'coast', 'coast', 'coast', 'coast', 'coast', 'coast', 'coast', 'coast', 'coast', 'coast', 'coast', 'coast', 'coast', 'coast', 'coast', 'coast', 'coast', 'coast', 'coast', 'coast', 'coast', 'coast', 'coast', 'coast', 'coast', 'coast', 'coast', 'coast', 'coast', 'coast', 'coast', 'coast', 'coast', 'coast', 'coast', 'coast', 'coast', 'coast', 'coast', 'coast', 'coast', 'coast', 'coast', 'coast', 'coast', 'coast', 'coast', 'coast', 'coast', 'coast', 'coast', 'coast', 'coast', 'coast', 'coast', 'coast', 'coast', 'coast', 'coast', 'coast', 'coast', 'coast', 'coast', 'coast', 'coast', 'coast', 'coast', 'coast', 'coast', 'coast', 'coast', 'coast', 'coast', 'coast', 'coast', 'coast', 'coast', 'coast', 'coast', 'coast', 'coast', 'coast', 'coast', 'coast', 'coast', 'coast', 'coast', 'coast', 'coast', 'coast', 'coast', 'coast', 'coast', 'coast', 'coast', 'coast', 'coast', 'coast', 'coast', 'coast', 'coast', 'coast', 'coast', 'coast', 'coast', 'coast', 'coast', 'coast', 'coast', 'coast', 'coast', 'coast', 'coast', 'coast', 'coast', 'coast', 'coast', 'coast', 'coast', 'coast', 'coast', 'coast', 'coast', 'coast', 'coast', 'coast', 'coast', 'coast', 'coast', 'coast', 'coast', 'coast', 'coast', 'coast', 'coast', 'coast', 'coast', 'coast', 'coast', 'coast', 'coast', 'coast', 'coast', 'coast', 'coast', 'coast', 'coast', 'coast', 'coast', 'coast', 'coast', 'coast', 'coast', 'coast', 'coast', 'coast', 'coast', 'coast', 'coast', 'coast', 'coast', 'coast', 'coast', 'coast', 'coast', 'coast', 'coast', 'coast', 'coast', 'coast', 'coast', 'coast', 'coast', 'coast', 'coast', 'coast', 'coast', 'coast', 'coast', 'coast', 'coast', 'coast', 'coast', 'highway', 'highway', 'highway', 'highway', 'highway', 'highway', 'highway', 'highway', 'highway', 'highway', 'highway', 'highway', 'highway', 'highway', 'highway', 'highway', 'highway', 'highway', 'highway', 'highway', 'highway', 'highway', 'highway', 'highway', 'highway', 'highway', 'highway', 'highway', 'highway', 'highway', 'highway', 'highway', 'highway', 'highway', 'highway', 'highway', 'highway', 'highway', 'highway', 'highway', 'highway', 'highway', 'highway', 'highway', 'highway', 'highway', 'highway', 'highway', 'highway', 'highway', 'highway', 'highway', 'highway', 'highway', 'highway', 'highway', 'highway', 'highway', 'highway', 'highway', 'highway', 'highway', 'highway', 'highway', 'highway', 'highway', 'highway', 'highway', 'highway', 'highway', 'highway', 'highway', 'highway', 'highway', 'highway', 'highway', 'highway', 'highway', 'highway', 'highway', 'highway', 'highway', 'highway', 'highway', 'highway', 'highway', 'highway', 'highway', 'highway', 'highway', 'highway', 'highway', 'highway', 'highway', 'highway', 'highway', 'highway', 'highway', 'highway', 'highway', 'highway', 'highway', 'highway', 'highway', 'highway', 'highway', 'highway', 'highway', 'highway', 'highway', 'highway', 'highway', 'highway', 'highway', 'highway', 'highway', 'highway', 'highway', 'highway', 'highway', 'highway', 'highway', 'highway', 'highway', 'highway', 'highway', 'highway', 'highway', 'highway', 'highway', 'highway', 'highway', 'highway', 'highway', 'highway', 'highway', 'highway', 'highway', 'highway', 'highway', 'highway', 'highway', 'highway', 'highway', 'highway', 'highway', 'highway', 'highway', 'highway', 'highway', 'highway', 'highway', 'highway', 'highway', 'highway', 'highway', 'highway', 'highway', 'highway', 'highway', 'highway', 'highway', 'highway', 'highway', 'highway', 'highway', 'highway', 'highway', 'highway', 'highway', 'highway', 'highway', 'highway', 'highway', 'highway', 'highway', 'highway', 'highway', 'highway', 'highway', 'highway', 'highway', 'highway', 'highway', 'highway', 'highway', 'highway', 'highway', 'highway', 'highway', 'highway', 'highway', 'highway', 'highway', 'highway', 'highway', 'highway', 'highway', 'highway', 'highway', 'highway', 'highway', 'highway', 'highway', 'highway', 'highway', 'highway', 'highway', 'highway', 'highway', 'highway', 'highway', 'highway', 'highway', 'highway', 'highway', 'highway', 'highway', 'highway', 'highway', 'highway', 'highway', 'highway', 'highway', 'highway', 'highway', 'highway', 'highway', 'highway', 'highway', 'highway', 'highway', 'highway', 'highway', 'highway', 'highway', 'highway', 'highway', 'highway', 'highway', 'highway', 'highway', 'highway', 'highway', 'highway', 'highway', 'highway', 'highway', 'highway', 'highway', 'highway', 'highway', 'highway', 'highway', 'highway', 'highway', 'highway', 'highway', 'highway', 'highway', 'highway', 'highway', 'highway', 'highway', 'highway', 'highway', 'highway', 'highway', 'highway', 'highway', 'highway', 'highway', 'highway', 'highway', 'highway', 'highway', 'highway', 'highway', 'highway', 'highway', 'highway', 'highway', 'highway', 'highway', 'highway', 'highway', 'highway', 'highway', 'highway', 'highway', 'highway', 'highway', 'highway', 'highway', 'highway', 'highway', 'highway', 'highway', 'highway', 'highway', 'highway', 'highway', 'highway', 'highway', 'highway', 'highway', 'highway', 'highway', 'highway', 'highway', 'highway', 'highway', 'highway', 'highway', 'highway', 'highway', 'highway', 'highway', 'highway', 'highway', 'highway', 'highway', 'highway', 'highway', 'highway', 'highway', 'highway', 'highway', 'highway', 'highway', 'highway', 'highway', 'highway', 'highway', 'highway', 'highway', 'highway', 'highway', 'highway', 'highway', 'highway', 'highway', 'highway', 'highway', 'highway', 'highway', 'highway', 'highway', 'highway', 'highway', 'highway', 'highway', 'highway', 'highway', 'highway', 'highway', 'highway', 'highway']\n"
          ],
          "name": "stdout"
        }
      ]
    },
    {
      "cell_type": "code",
      "metadata": {
        "id": "rlI8DmGm2HT5"
      },
      "source": [
        "lb = LabelBinarizer()\n",
        "labels = lb.fit_transform(labels)"
      ],
      "execution_count": 7,
      "outputs": []
    },
    {
      "cell_type": "code",
      "metadata": {
        "colab": {
          "base_uri": "https://localhost:8080/"
        },
        "id": "64ZsZwOv2R8S",
        "outputId": "69f40f5f-3c0a-4ead-b14e-dd67ffeaf692"
      },
      "source": [
        "print(labels)"
      ],
      "execution_count": 8,
      "outputs": [
        {
          "output_type": "stream",
          "text": [
            "[[0 1 0]\n",
            " [0 1 0]\n",
            " [0 1 0]\n",
            " ...\n",
            " [0 0 1]\n",
            " [0 0 1]\n",
            " [0 0 1]]\n"
          ],
          "name": "stdout"
        }
      ]
    },
    {
      "cell_type": "code",
      "metadata": {
        "colab": {
          "base_uri": "https://localhost:8080/"
        },
        "id": "4i_1u0m42T-A",
        "outputId": "48d61952-5de9-4154-c587-68895466e3bf"
      },
      "source": [
        "(trainX, testX, trainY, testY) = train_test_split(np.array(data), np.array(labels), test_size=0.25)\n",
        "print(trainX.shape)\n",
        "print(testX.shape)"
      ],
      "execution_count": 9,
      "outputs": [
        {
          "output_type": "stream",
          "text": [
            "(842, 24, 24, 3)\n",
            "(281, 24, 24, 3)\n"
          ],
          "name": "stdout"
        }
      ]
    },
    {
      "cell_type": "code",
      "metadata": {
        "id": "iFjkKLVH2enw"
      },
      "source": [
        "from keras.models import Sequential\n",
        "from keras.layers.core import Dense\n",
        "from keras.layers.core import Flatten\n",
        "\n",
        "model = Sequential(\n",
        "    [\n",
        "        Flatten(input_shape=(24*24*3,)),\n",
        "        Dense(100, activation=\"relu\", name=\"layer1\"),\n",
        "        Dense(64, activation=\"relu\", name=\"layer2\"),\n",
        "        Dense(64, activation=\"relu\", name=\"layer3\"),\n",
        "        Dense(3, activation=\"softmax\", name=\"layer4\"),\n",
        "    ]\n",
        ")"
      ],
      "execution_count": 10,
      "outputs": []
    },
    {
      "cell_type": "code",
      "metadata": {
        "colab": {
          "base_uri": "https://localhost:8080/"
        },
        "id": "9UGsXyoW2oVT",
        "outputId": "56b1964a-f8d6-46f5-8a66-a42f1678c655"
      },
      "source": [
        "model.summary()"
      ],
      "execution_count": 11,
      "outputs": [
        {
          "output_type": "stream",
          "text": [
            "Model: \"sequential\"\n",
            "_________________________________________________________________\n",
            "Layer (type)                 Output Shape              Param #   \n",
            "=================================================================\n",
            "flatten (Flatten)            (None, 1728)              0         \n",
            "_________________________________________________________________\n",
            "layer1 (Dense)               (None, 100)               172900    \n",
            "_________________________________________________________________\n",
            "layer2 (Dense)               (None, 64)                6464      \n",
            "_________________________________________________________________\n",
            "layer3 (Dense)               (None, 64)                4160      \n",
            "_________________________________________________________________\n",
            "layer4 (Dense)               (None, 3)                 195       \n",
            "=================================================================\n",
            "Total params: 183,719\n",
            "Trainable params: 183,719\n",
            "Non-trainable params: 0\n",
            "_________________________________________________________________\n"
          ],
          "name": "stdout"
        }
      ]
    },
    {
      "cell_type": "code",
      "metadata": {
        "colab": {
          "base_uri": "https://localhost:8080/"
        },
        "id": "8qeX2rJl2r3o",
        "outputId": "baf3c0b7-ac8a-4e39-b3ad-a54861fa49af"
      },
      "source": [
        "print(\"[INFO] training network...\")\n",
        "opt = Adam(lr=1e-3, decay=1e-3 / 50)\n",
        "model.compile(loss=\"categorical_crossentropy\", optimizer=opt, metrics=[\"accuracy\"])\n",
        "H = model.fit(trainX, trainY, validation_data=(testX, testY), epochs=25, batch_size=32)"
      ],
      "execution_count": 12,
      "outputs": [
        {
          "output_type": "stream",
          "text": [
            "[INFO] training network...\n",
            "Epoch 1/25\n",
            "WARNING:tensorflow:Model was constructed with shape (None, 1728) for input Tensor(\"flatten_input:0\", shape=(None, 1728), dtype=float32), but it was called on an input with incompatible shape (None, 24, 24, 3).\n",
            "WARNING:tensorflow:Model was constructed with shape (None, 1728) for input Tensor(\"flatten_input:0\", shape=(None, 1728), dtype=float32), but it was called on an input with incompatible shape (None, 24, 24, 3).\n",
            "19/27 [====================>.........] - ETA: 0s - loss: 1.0668 - accuracy: 0.3783WARNING:tensorflow:Model was constructed with shape (None, 1728) for input Tensor(\"flatten_input:0\", shape=(None, 1728), dtype=float32), but it was called on an input with incompatible shape (None, 24, 24, 3).\n",
            "27/27 [==============================] - 0s 9ms/step - loss: 1.0370 - accuracy: 0.4097 - val_loss: 0.8753 - val_accuracy: 0.5765\n",
            "Epoch 2/25\n",
            "27/27 [==============================] - 0s 4ms/step - loss: 0.8152 - accuracy: 0.6461 - val_loss: 0.8287 - val_accuracy: 0.6655\n",
            "Epoch 3/25\n",
            "27/27 [==============================] - 0s 4ms/step - loss: 0.7514 - accuracy: 0.6948 - val_loss: 0.7429 - val_accuracy: 0.6940\n",
            "Epoch 4/25\n",
            "27/27 [==============================] - 0s 4ms/step - loss: 0.6118 - accuracy: 0.7720 - val_loss: 0.6381 - val_accuracy: 0.7722\n",
            "Epoch 5/25\n",
            "27/27 [==============================] - 0s 4ms/step - loss: 0.5881 - accuracy: 0.7720 - val_loss: 0.6557 - val_accuracy: 0.7082\n",
            "Epoch 6/25\n",
            "27/27 [==============================] - 0s 4ms/step - loss: 0.6426 - accuracy: 0.7185 - val_loss: 0.6984 - val_accuracy: 0.7438\n",
            "Epoch 7/25\n",
            "27/27 [==============================] - 0s 4ms/step - loss: 0.5471 - accuracy: 0.7993 - val_loss: 0.5620 - val_accuracy: 0.7722\n",
            "Epoch 8/25\n",
            "27/27 [==============================] - 0s 4ms/step - loss: 0.4978 - accuracy: 0.8278 - val_loss: 0.5461 - val_accuracy: 0.7900\n",
            "Epoch 9/25\n",
            "27/27 [==============================] - 0s 3ms/step - loss: 0.4843 - accuracy: 0.8159 - val_loss: 0.5397 - val_accuracy: 0.8007\n",
            "Epoch 10/25\n",
            "27/27 [==============================] - 0s 4ms/step - loss: 0.4693 - accuracy: 0.8290 - val_loss: 0.5577 - val_accuracy: 0.8149\n",
            "Epoch 11/25\n",
            "27/27 [==============================] - 0s 4ms/step - loss: 0.4179 - accuracy: 0.8420 - val_loss: 0.5194 - val_accuracy: 0.7972\n",
            "Epoch 12/25\n",
            "27/27 [==============================] - 0s 4ms/step - loss: 0.4056 - accuracy: 0.8539 - val_loss: 0.5335 - val_accuracy: 0.7687\n",
            "Epoch 13/25\n",
            "27/27 [==============================] - 0s 4ms/step - loss: 0.4248 - accuracy: 0.8409 - val_loss: 0.5365 - val_accuracy: 0.7829\n",
            "Epoch 14/25\n",
            "27/27 [==============================] - 0s 4ms/step - loss: 0.3962 - accuracy: 0.8682 - val_loss: 0.5637 - val_accuracy: 0.7509\n",
            "Epoch 15/25\n",
            "27/27 [==============================] - 0s 3ms/step - loss: 0.3683 - accuracy: 0.8527 - val_loss: 1.0321 - val_accuracy: 0.5516\n",
            "Epoch 16/25\n",
            "27/27 [==============================] - 0s 4ms/step - loss: 0.5519 - accuracy: 0.7743 - val_loss: 0.6154 - val_accuracy: 0.7402\n",
            "Epoch 17/25\n",
            "27/27 [==============================] - 0s 4ms/step - loss: 0.3966 - accuracy: 0.8515 - val_loss: 0.5230 - val_accuracy: 0.7900\n",
            "Epoch 18/25\n",
            "27/27 [==============================] - 0s 4ms/step - loss: 0.3450 - accuracy: 0.8800 - val_loss: 0.7972 - val_accuracy: 0.7046\n",
            "Epoch 19/25\n",
            "27/27 [==============================] - 0s 4ms/step - loss: 0.3748 - accuracy: 0.8527 - val_loss: 0.5350 - val_accuracy: 0.8007\n",
            "Epoch 20/25\n",
            "27/27 [==============================] - 0s 3ms/step - loss: 0.3004 - accuracy: 0.9014 - val_loss: 0.5144 - val_accuracy: 0.7865\n",
            "Epoch 21/25\n",
            "27/27 [==============================] - 0s 4ms/step - loss: 0.3067 - accuracy: 0.8872 - val_loss: 0.5222 - val_accuracy: 0.7794\n",
            "Epoch 22/25\n",
            "27/27 [==============================] - 0s 3ms/step - loss: 0.3073 - accuracy: 0.8860 - val_loss: 0.6303 - val_accuracy: 0.7794\n",
            "Epoch 23/25\n",
            "27/27 [==============================] - 0s 4ms/step - loss: 0.3207 - accuracy: 0.8753 - val_loss: 0.5074 - val_accuracy: 0.8221\n",
            "Epoch 24/25\n",
            "27/27 [==============================] - 0s 4ms/step - loss: 0.2526 - accuracy: 0.9192 - val_loss: 0.5211 - val_accuracy: 0.8221\n",
            "Epoch 25/25\n",
            "27/27 [==============================] - 0s 4ms/step - loss: 0.2790 - accuracy: 0.8979 - val_loss: 0.5145 - val_accuracy: 0.8149\n"
          ],
          "name": "stdout"
        }
      ]
    },
    {
      "cell_type": "code",
      "metadata": {
        "colab": {
          "base_uri": "https://localhost:8080/",
          "height": 590
        },
        "id": "FulH5VZL2zWf",
        "outputId": "2bcb6bf5-c471-4ca8-f6cd-eb80ae64ba9e"
      },
      "source": [
        "import matplotlib.pyplot as plt\n",
        "\n",
        "print(H.history.keys())\n",
        "#accuracy\n",
        "plt.plot(H.history['accuracy'])\n",
        "plt.plot(H.history['val_accuracy'])\n",
        "plt.title('model accuracy')\n",
        "plt.ylabel('accuracy')\n",
        "plt.xlabel('epoch')\n",
        "plt.legend(['train', 'test'], loc='upper left')\n",
        "plt.show()\n",
        "#loss\n",
        "plt.plot(H.history['loss'])\n",
        "plt.plot(H.history['val_loss'])\n",
        "plt.title('model loss')\n",
        "plt.ylabel('loss')\n",
        "plt.xlabel('epoch')\n",
        "plt.legend(['train', 'test'], loc='upper left')\n",
        "plt.show()"
      ],
      "execution_count": 13,
      "outputs": [
        {
          "output_type": "stream",
          "text": [
            "dict_keys(['loss', 'accuracy', 'val_loss', 'val_accuracy'])\n"
          ],
          "name": "stdout"
        },
        {
          "output_type": "display_data",
          "data": {
            "image/png": "[encoded data removed]",
            "text/plain": [
              "<Figure size 432x288 with 1 Axes>"
            ]
          },
          "metadata": {
            "tags": [],
            "needs_background": "light"
          }
        },
        {
          "output_type": "display_data",
          "data": {
            "image/png": "[encoded data removed]",
            "text/plain": [
              "<Figure size 432x288 with 1 Axes>"
            ]
          },
          "metadata": {
            "tags": [],
            "needs_background": "light"
          }
        }
      ]
    },
    {
      "cell_type": "code",
      "metadata": {
        "colab": {
          "base_uri": "https://localhost:8080/"
        },
        "id": "7eztEOnU3Arg",
        "outputId": "03fba371-f126-4557-a1ed-d92ebc47a6fb"
      },
      "source": [
        "print(\"[INFO] evaluating network...\")\n",
        "predictions = model.predict(testX, batch_size=32)\n",
        "print(classification_report(testY.argmax(axis=1), predictions.argmax(axis=1), target_names=lb.classes_))"
      ],
      "execution_count": 14,
      "outputs": [
        {
          "output_type": "stream",
          "text": [
            "[INFO] evaluating network...\n",
            "WARNING:tensorflow:Model was constructed with shape (None, 1728) for input Tensor(\"flatten_input:0\", shape=(None, 1728), dtype=float32), but it was called on an input with incompatible shape (None, 24, 24, 3).\n",
            "              precision    recall  f1-score   support\n",
            "\n",
            "       coast       0.68      0.95      0.79        95\n",
            "      forest       0.94      0.82      0.88        94\n",
            "     highway       0.93      0.67      0.78        92\n",
            "\n",
            "    accuracy                           0.81       281\n",
            "   macro avg       0.85      0.81      0.82       281\n",
            "weighted avg       0.85      0.81      0.82       281\n",
            "\n"
          ],
          "name": "stdout"
        }
      ]
    },
    {
      "cell_type": "code",
      "metadata": {
        "colab": {
          "base_uri": "https://localhost:8080/"
        },
        "id": "7iDSC1zi3GZY",
        "outputId": "7aa561a8-356d-4b2b-9ccf-72c43e943265"
      },
      "source": [
        "model.save('model_data')"
      ],
      "execution_count": 15,
      "outputs": [
        {
          "output_type": "stream",
          "text": [
            "WARNING:tensorflow:From /usr/local/lib/python3.6/dist-packages/tensorflow/python/training/tracking/tracking.py:111: Model.state_updates (from tensorflow.python.keras.engine.training) is deprecated and will be removed in a future version.\n",
            "Instructions for updating:\n",
            "This property should not be used in TensorFlow 2.0, as updates are applied automatically.\n",
            "WARNING:tensorflow:From /usr/local/lib/python3.6/dist-packages/tensorflow/python/training/tracking/tracking.py:111: Layer.updates (from tensorflow.python.keras.engine.base_layer) is deprecated and will be removed in a future version.\n",
            "Instructions for updating:\n",
            "This property should not be used in TensorFlow 2.0, as updates are applied automatically.\n",
            "INFO:tensorflow:Assets written to: model_data/assets\n"
          ],
          "name": "stdout"
        }
      ]
    }
  ]
}